{
 "cells": [
  {
   "cell_type": "code",
   "execution_count": 1,
   "metadata": {},
   "outputs": [],
   "source": [
    "import numpy as np\n",
    "import os\n",
    "\n",
    "os.environ['CUDA_VISIBLE_DEVICES'] = '1'\n",
    "os.environ['TF_FORCE_GPU_ALLOW_GROWTH'] = 'true'"
   ]
  },
  {
   "cell_type": "code",
   "execution_count": 2,
   "metadata": {},
   "outputs": [
    {
     "data": {
      "text/plain": [
       "(632, 30, 100)"
      ]
     },
     "execution_count": 2,
     "metadata": {},
     "output_type": "execute_result"
    }
   ],
   "source": [
    "actions = [\n",
    "    'clenching',\n",
    "    'away',\n",
    "    'come'\n",
    "]\n",
    "\n",
    "data = np.concatenate([\n",
    "    np.load('data/seq_clenching.npy'),\n",
    "    np.load('data/seq_away.npy'),\n",
    "    np.load('data/seq_come.npy'),\n",
    "], axis=0)\n",
    "\n",
    "data.shape"
   ]
  },
  {
   "cell_type": "code",
   "execution_count": 3,
   "metadata": {},
   "outputs": [],
   "source": [
    "labelPath = 'data/labels.txt'\n",
    "dataPath = 'data'"
   ]
  },
  {
   "cell_type": "code",
   "execution_count": 4,
   "metadata": {},
   "outputs": [
    {
     "data": {
      "text/plain": [
       "((632, 30, 100), ['0', '1', '2'])"
      ]
     },
     "execution_count": 4,
     "metadata": {},
     "output_type": "execute_result"
    }
   ],
   "source": [
    "from service import train\n",
    "\n",
    "with open(labelPath, 'r') as f:\n",
    "    lines = f.readlines()\n",
    "    data = np.concatenate([\n",
    "        np.load(f'{dataPath}/seq_{line.strip().split()[0]}.npy') for line in lines\n",
    "    ], axis=0)\n",
    "    actions = [line.strip().split()[1] for line in lines]\n",
    "\n",
    "data.shape, actions"
   ]
  },
  {
   "cell_type": "code",
   "execution_count": 5,
   "metadata": {},
   "outputs": [
    {
     "data": {
      "text/plain": [
       "((632, 30, 99), (632,))"
      ]
     },
     "execution_count": 5,
     "metadata": {},
     "output_type": "execute_result"
    }
   ],
   "source": [
    "x_data = data[:, :, :-1]\n",
    "labels = data[:, 0, -1]\n",
    "\n",
    "x_data.shape, labels.shape"
   ]
  },
  {
   "cell_type": "code",
   "execution_count": 6,
   "metadata": {},
   "outputs": [],
   "source": [
    "from keras.utils import to_categorical\n",
    "\n",
    "y_data = to_categorical(labels, num_classes=len(actions))"
   ]
  },
  {
   "cell_type": "code",
   "execution_count": 7,
   "metadata": {},
   "outputs": [
    {
     "name": "stdout",
     "output_type": "stream",
     "text": [
      "(568, 30, 99) (568, 3)\n"
     ]
    }
   ],
   "source": [
    "from sklearn.model_selection import train_test_split\n",
    "\n",
    "x_data = x_data.astype(np.float32)\n",
    "y_data = y_data.astype(np.float32)\n",
    "\n",
    "x_train, x_val, y_train, y_val = train_test_split(x_data, y_data, test_size=0.1, random_state=2022)\n",
    "\n",
    "print(x_train.shape, y_train.shape)"
   ]
  },
  {
   "cell_type": "code",
   "execution_count": 8,
   "metadata": {},
   "outputs": [
    {
     "name": "stdout",
     "output_type": "stream",
     "text": [
      "Model: \"sequential\"\n",
      "_________________________________________________________________\n",
      " Layer (type)                Output Shape              Param #   \n",
      "=================================================================\n",
      " gru (GRU)                   (None, 64)                31680     \n",
      "                                                                 \n",
      " dense (Dense)               (None, 32)                2080      \n",
      "                                                                 \n",
      " dense_1 (Dense)             (None, 8)                 264       \n",
      "                                                                 \n",
      " dense_2 (Dense)             (None, 3)                 27        \n",
      "                                                                 \n",
      "=================================================================\n",
      "Total params: 34,051\n",
      "Trainable params: 34,051\n",
      "Non-trainable params: 0\n",
      "_________________________________________________________________\n"
     ]
    }
   ],
   "source": [
    "from keras.models import Sequential\n",
    "from keras.layers import LSTM, Dense, Dropout, GRU\n",
    "from keras.regularizers import l2\n",
    "\n",
    "model = Sequential([\n",
    "    GRU(64, activation='tanh', input_shape=x_train.shape[1:3]),\n",
    "    Dense(32, activation='tanh'),\n",
    "    Dense(8, activation='tanh'),\n",
    "    Dense(len(actions), activation='softmax')\n",
    "])\n",
    "\n",
    "# model = Sequential([\n",
    "#     GRU(64, activation='tanh', input_shape=x_train.shape[1:3]),\n",
    "#     Dense(32, activation='tanh'),\n",
    "#     Dropout(0.3),\n",
    "#     Dense(len(actions), activation='softmax')\n",
    "# ])\n",
    "\n",
    "model.compile(optimizer='adam', loss='categorical_crossentropy', metrics=['acc'])\n",
    "model.summary()"
   ]
  },
  {
   "cell_type": "code",
   "execution_count": 9,
   "metadata": {
    "tags": []
   },
   "outputs": [
    {
     "name": "stdout",
     "output_type": "stream",
     "text": [
      "Epoch 1/200\n",
      "29/36 [=======================>......] - ETA: 0s - loss: 0.6423 - acc: 0.8254\n",
      "Epoch 1: val_acc improved from -inf to 1.00000, saving model to models\\base_model.h5\n",
      "36/36 [==============================] - 2s 19ms/step - loss: 0.5797 - acc: 0.8574 - val_loss: 0.2559 - val_acc: 1.0000 - lr: 0.0010\n",
      "Epoch 2/200\n",
      "30/36 [========================>.....] - ETA: 0s - loss: 0.2085 - acc: 1.0000\n",
      "Epoch 2: val_acc did not improve from 1.00000\n",
      "36/36 [==============================] - 0s 6ms/step - loss: 0.2011 - acc: 1.0000 - val_loss: 0.1516 - val_acc: 1.0000 - lr: 0.0010\n",
      "Epoch 3/200\n",
      "30/36 [========================>.....] - ETA: 0s - loss: 0.1382 - acc: 1.0000\n",
      "Epoch 3: val_acc did not improve from 1.00000\n",
      "36/36 [==============================] - 0s 6ms/step - loss: 0.1347 - acc: 1.0000 - val_loss: 0.1124 - val_acc: 1.0000 - lr: 0.0010\n",
      "Epoch 4/200\n",
      "30/36 [========================>.....] - ETA: 0s - loss: 0.1047 - acc: 1.0000\n",
      "Epoch 4: val_acc did not improve from 1.00000\n",
      "36/36 [==============================] - 0s 6ms/step - loss: 0.1028 - acc: 1.0000 - val_loss: 0.0883 - val_acc: 1.0000 - lr: 0.0010\n",
      "Epoch 5/200\n",
      "30/36 [========================>.....] - ETA: 0s - loss: 0.0822 - acc: 1.0000\n",
      "Epoch 5: val_acc did not improve from 1.00000\n",
      "36/36 [==============================] - 0s 6ms/step - loss: 0.0814 - acc: 1.0000 - val_loss: 0.0713 - val_acc: 1.0000 - lr: 0.0010\n",
      "Epoch 6/200\n",
      "31/36 [========================>.....] - ETA: 0s - loss: 0.0672 - acc: 1.0000\n",
      "Epoch 6: val_acc did not improve from 1.00000\n",
      "36/36 [==============================] - 0s 6ms/step - loss: 0.0663 - acc: 1.0000 - val_loss: 0.0590 - val_acc: 1.0000 - lr: 0.0010\n",
      "Epoch 7/200\n",
      "28/36 [======================>.......] - ETA: 0s - loss: 0.0558 - acc: 1.0000\n",
      "Epoch 7: val_acc did not improve from 1.00000\n",
      "36/36 [==============================] - 0s 6ms/step - loss: 0.0552 - acc: 1.0000 - val_loss: 0.0497 - val_acc: 1.0000 - lr: 0.0010\n",
      "Epoch 8/200\n",
      "27/36 [=====================>........] - ETA: 0s - loss: 0.0476 - acc: 1.0000\n",
      "Epoch 8: val_acc did not improve from 1.00000\n",
      "36/36 [==============================] - 0s 6ms/step - loss: 0.0467 - acc: 1.0000 - val_loss: 0.0424 - val_acc: 1.0000 - lr: 0.0010\n",
      "Epoch 9/200\n",
      "31/36 [========================>.....] - ETA: 0s - loss: 0.0402 - acc: 1.0000\n",
      "Epoch 9: val_acc did not improve from 1.00000\n",
      "36/36 [==============================] - 0s 6ms/step - loss: 0.0401 - acc: 1.0000 - val_loss: 0.0367 - val_acc: 1.0000 - lr: 0.0010\n",
      "Epoch 10/200\n",
      "30/36 [========================>.....] - ETA: 0s - loss: 0.0353 - acc: 1.0000\n",
      "Epoch 10: val_acc did not improve from 1.00000\n",
      "36/36 [==============================] - 0s 6ms/step - loss: 0.0348 - acc: 1.0000 - val_loss: 0.0321 - val_acc: 1.0000 - lr: 0.0010\n",
      "Epoch 11/200\n",
      "32/36 [=========================>....] - ETA: 0s - loss: 0.0307 - acc: 1.0000\n",
      "Epoch 11: val_acc did not improve from 1.00000\n",
      "36/36 [==============================] - 0s 6ms/step - loss: 0.0306 - acc: 1.0000 - val_loss: 0.0283 - val_acc: 1.0000 - lr: 0.0010\n",
      "Epoch 12/200\n",
      "31/36 [========================>.....] - ETA: 0s - loss: 0.0272 - acc: 1.0000\n",
      "Epoch 12: val_acc did not improve from 1.00000\n",
      "36/36 [==============================] - 0s 6ms/step - loss: 0.0271 - acc: 1.0000 - val_loss: 0.0252 - val_acc: 1.0000 - lr: 0.0010\n",
      "Epoch 13/200\n",
      "31/36 [========================>.....] - ETA: 0s - loss: 0.0243 - acc: 1.0000\n",
      "Epoch 13: val_acc did not improve from 1.00000\n",
      "36/36 [==============================] - 0s 6ms/step - loss: 0.0241 - acc: 1.0000 - val_loss: 0.0226 - val_acc: 1.0000 - lr: 0.0010\n",
      "Epoch 14/200\n",
      "32/36 [=========================>....] - ETA: 0s - loss: 0.0218 - acc: 1.0000\n",
      "Epoch 14: val_acc did not improve from 1.00000\n",
      "36/36 [==============================] - 0s 6ms/step - loss: 0.0217 - acc: 1.0000 - val_loss: 0.0203 - val_acc: 1.0000 - lr: 0.0010\n",
      "Epoch 15/200\n",
      "33/36 [==========================>...] - ETA: 0s - loss: 0.0196 - acc: 1.0000\n",
      "Epoch 15: val_acc did not improve from 1.00000\n",
      "36/36 [==============================] - 0s 6ms/step - loss: 0.0196 - acc: 1.0000 - val_loss: 0.0184 - val_acc: 1.0000 - lr: 0.0010\n",
      "Epoch 16/200\n",
      "32/36 [=========================>....] - ETA: 0s - loss: 0.0179 - acc: 1.0000\n",
      "Epoch 16: val_acc did not improve from 1.00000\n",
      "36/36 [==============================] - 0s 6ms/step - loss: 0.0178 - acc: 1.0000 - val_loss: 0.0168 - val_acc: 1.0000 - lr: 0.0010\n",
      "Epoch 17/200\n",
      "31/36 [========================>.....] - ETA: 0s - loss: 0.0163 - acc: 1.0000\n",
      "Epoch 17: val_acc did not improve from 1.00000\n",
      "36/36 [==============================] - 0s 6ms/step - loss: 0.0162 - acc: 1.0000 - val_loss: 0.0153 - val_acc: 1.0000 - lr: 0.0010\n",
      "Epoch 18/200\n",
      "31/36 [========================>.....] - ETA: 0s - loss: 0.0149 - acc: 1.0000\n",
      "Epoch 18: val_acc did not improve from 1.00000\n",
      "36/36 [==============================] - 0s 6ms/step - loss: 0.0148 - acc: 1.0000 - val_loss: 0.0141 - val_acc: 1.0000 - lr: 0.0010\n",
      "Epoch 19/200\n",
      "30/36 [========================>.....] - ETA: 0s - loss: 0.0138 - acc: 1.0000\n",
      "Epoch 19: val_acc did not improve from 1.00000\n",
      "36/36 [==============================] - 0s 6ms/step - loss: 0.0136 - acc: 1.0000 - val_loss: 0.0130 - val_acc: 1.0000 - lr: 0.0010\n",
      "Epoch 20/200\n",
      "33/36 [==========================>...] - ETA: 0s - loss: 0.0126 - acc: 1.0000\n",
      "Epoch 20: val_acc did not improve from 1.00000\n",
      "36/36 [==============================] - 0s 6ms/step - loss: 0.0126 - acc: 1.0000 - val_loss: 0.0120 - val_acc: 1.0000 - lr: 0.0010\n",
      "Epoch 21/200\n",
      "30/36 [========================>.....] - ETA: 0s - loss: 0.0117 - acc: 1.0000\n",
      "Epoch 21: val_acc did not improve from 1.00000\n",
      "36/36 [==============================] - 0s 6ms/step - loss: 0.0117 - acc: 1.0000 - val_loss: 0.0111 - val_acc: 1.0000 - lr: 0.0010\n",
      "Epoch 22/200\n",
      "31/36 [========================>.....] - ETA: 0s - loss: 0.0109 - acc: 1.0000\n",
      "Epoch 22: val_acc did not improve from 1.00000\n",
      "36/36 [==============================] - 0s 6ms/step - loss: 0.0108 - acc: 1.0000 - val_loss: 0.0103 - val_acc: 1.0000 - lr: 0.0010\n",
      "Epoch 23/200\n",
      "31/36 [========================>.....] - ETA: 0s - loss: 0.0101 - acc: 1.0000\n",
      "Epoch 23: val_acc did not improve from 1.00000\n",
      "36/36 [==============================] - 0s 6ms/step - loss: 0.0101 - acc: 1.0000 - val_loss: 0.0096 - val_acc: 1.0000 - lr: 0.0010\n",
      "Epoch 24/200\n",
      "32/36 [=========================>....] - ETA: 0s - loss: 0.0094 - acc: 1.0000\n",
      "Epoch 24: val_acc did not improve from 1.00000\n",
      "36/36 [==============================] - 0s 6ms/step - loss: 0.0094 - acc: 1.0000 - val_loss: 0.0090 - val_acc: 1.0000 - lr: 0.0010\n",
      "Epoch 25/200\n",
      "33/36 [==========================>...] - ETA: 0s - loss: 0.0088 - acc: 1.0000\n",
      "Epoch 25: val_acc did not improve from 1.00000\n",
      "36/36 [==============================] - 0s 6ms/step - loss: 0.0088 - acc: 1.0000 - val_loss: 0.0084 - val_acc: 1.0000 - lr: 0.0010\n",
      "Epoch 26/200\n",
      "33/36 [==========================>...] - ETA: 0s - loss: 0.0083 - acc: 1.0000\n",
      "Epoch 26: val_acc did not improve from 1.00000\n",
      "36/36 [==============================] - 0s 6ms/step - loss: 0.0083 - acc: 1.0000 - val_loss: 0.0079 - val_acc: 1.0000 - lr: 0.0010\n",
      "Epoch 27/200\n",
      "33/36 [==========================>...] - ETA: 0s - loss: 0.0077 - acc: 1.0000\n",
      "Epoch 27: val_acc did not improve from 1.00000\n",
      "36/36 [==============================] - 0s 6ms/step - loss: 0.0078 - acc: 1.0000 - val_loss: 0.0075 - val_acc: 1.0000 - lr: 0.0010\n",
      "Epoch 28/200\n",
      "33/36 [==========================>...] - ETA: 0s - loss: 0.0073 - acc: 1.0000\n",
      "Epoch 28: val_acc did not improve from 1.00000\n",
      "36/36 [==============================] - 0s 6ms/step - loss: 0.0073 - acc: 1.0000 - val_loss: 0.0070 - val_acc: 1.0000 - lr: 0.0010\n",
      "Epoch 29/200\n",
      "32/36 [=========================>....] - ETA: 0s - loss: 0.0069 - acc: 1.0000\n",
      "Epoch 29: val_acc did not improve from 1.00000\n",
      "36/36 [==============================] - 0s 6ms/step - loss: 0.0069 - acc: 1.0000 - val_loss: 0.0066 - val_acc: 1.0000 - lr: 0.0010\n",
      "Epoch 30/200\n",
      "33/36 [==========================>...] - ETA: 0s - loss: 0.0065 - acc: 1.0000\n",
      "Epoch 30: val_acc did not improve from 1.00000\n",
      "36/36 [==============================] - 0s 6ms/step - loss: 0.0065 - acc: 1.0000 - val_loss: 0.0063 - val_acc: 1.0000 - lr: 0.0010\n",
      "Epoch 31/200\n",
      "32/36 [=========================>....] - ETA: 0s - loss: 0.0062 - acc: 1.0000\n",
      "Epoch 31: val_acc did not improve from 1.00000\n",
      "\n",
      "Epoch 31: ReduceLROnPlateau reducing learning rate to 0.0005000000237487257.\n",
      "36/36 [==============================] - 0s 6ms/step - loss: 0.0062 - acc: 1.0000 - val_loss: 0.0060 - val_acc: 1.0000 - lr: 0.0010\n",
      "Epoch 32/200\n",
      "32/36 [=========================>....] - ETA: 0s - loss: 0.0059 - acc: 1.0000\n",
      "Epoch 32: val_acc did not improve from 1.00000\n",
      "36/36 [==============================] - 0s 6ms/step - loss: 0.0059 - acc: 1.0000 - val_loss: 0.0058 - val_acc: 1.0000 - lr: 5.0000e-04\n",
      "Epoch 33/200\n",
      "33/36 [==========================>...] - ETA: 0s - loss: 0.0058 - acc: 1.0000\n",
      "Epoch 33: val_acc did not improve from 1.00000\n",
      "36/36 [==============================] - 0s 6ms/step - loss: 0.0058 - acc: 1.0000 - val_loss: 0.0056 - val_acc: 1.0000 - lr: 5.0000e-04\n",
      "Epoch 34/200\n",
      "32/36 [=========================>....] - ETA: 0s - loss: 0.0056 - acc: 1.0000\n",
      "Epoch 34: val_acc did not improve from 1.00000\n",
      "36/36 [==============================] - 0s 6ms/step - loss: 0.0056 - acc: 1.0000 - val_loss: 0.0055 - val_acc: 1.0000 - lr: 5.0000e-04\n",
      "Epoch 35/200\n",
      "31/36 [========================>.....] - ETA: 0s - loss: 0.0055 - acc: 1.0000\n",
      "Epoch 35: val_acc did not improve from 1.00000\n",
      "36/36 [==============================] - 0s 6ms/step - loss: 0.0055 - acc: 1.0000 - val_loss: 0.0054 - val_acc: 1.0000 - lr: 5.0000e-04\n",
      "Epoch 36/200\n",
      "29/36 [=======================>......] - ETA: 0s - loss: 0.0053 - acc: 1.0000\n",
      "Epoch 36: val_acc did not improve from 1.00000\n",
      "36/36 [==============================] - 0s 6ms/step - loss: 0.0053 - acc: 1.0000 - val_loss: 0.0052 - val_acc: 1.0000 - lr: 5.0000e-04\n",
      "Epoch 37/200\n",
      "30/36 [========================>.....] - ETA: 0s - loss: 0.0052 - acc: 1.0000\n",
      "Epoch 37: val_acc did not improve from 1.00000\n",
      "36/36 [==============================] - 0s 6ms/step - loss: 0.0052 - acc: 1.0000 - val_loss: 0.0051 - val_acc: 1.0000 - lr: 5.0000e-04\n",
      "Epoch 38/200\n",
      "36/36 [==============================] - ETA: 0s - loss: 0.0050 - acc: 1.0000\n",
      "Epoch 38: val_acc did not improve from 1.00000\n",
      "36/36 [==============================] - 0s 7ms/step - loss: 0.0050 - acc: 1.0000 - val_loss: 0.0049 - val_acc: 1.0000 - lr: 5.0000e-04\n",
      "Epoch 39/200\n",
      "31/36 [========================>.....] - ETA: 0s - loss: 0.0049 - acc: 1.0000\n",
      "Epoch 39: val_acc did not improve from 1.00000\n",
      "36/36 [==============================] - 0s 6ms/step - loss: 0.0049 - acc: 1.0000 - val_loss: 0.0048 - val_acc: 1.0000 - lr: 5.0000e-04\n",
      "Epoch 40/200\n",
      "33/36 [==========================>...] - ETA: 0s - loss: 0.0048 - acc: 1.0000\n",
      "Epoch 40: val_acc did not improve from 1.00000\n",
      "36/36 [==============================] - 0s 6ms/step - loss: 0.0048 - acc: 1.0000 - val_loss: 0.0047 - val_acc: 1.0000 - lr: 5.0000e-04\n",
      "Epoch 41/200\n",
      "32/36 [=========================>....] - ETA: 0s - loss: 0.0047 - acc: 1.0000\n",
      "Epoch 41: val_acc did not improve from 1.00000\n",
      "36/36 [==============================] - 0s 6ms/step - loss: 0.0047 - acc: 1.0000 - val_loss: 0.0046 - val_acc: 1.0000 - lr: 5.0000e-04\n",
      "Epoch 42/200\n",
      "31/36 [========================>.....] - ETA: 0s - loss: 0.0045 - acc: 1.0000\n",
      "Epoch 42: val_acc did not improve from 1.00000\n",
      "36/36 [==============================] - 0s 6ms/step - loss: 0.0045 - acc: 1.0000 - val_loss: 0.0045 - val_acc: 1.0000 - lr: 5.0000e-04\n",
      "Epoch 43/200\n",
      "29/36 [=======================>......] - ETA: 0s - loss: 0.0044 - acc: 1.0000\n",
      "Epoch 43: val_acc did not improve from 1.00000\n",
      "36/36 [==============================] - 0s 6ms/step - loss: 0.0044 - acc: 1.0000 - val_loss: 0.0043 - val_acc: 1.0000 - lr: 5.0000e-04\n",
      "Epoch 44/200\n",
      "32/36 [=========================>....] - ETA: 0s - loss: 0.0043 - acc: 1.0000\n",
      "Epoch 44: val_acc did not improve from 1.00000\n",
      "36/36 [==============================] - 0s 6ms/step - loss: 0.0043 - acc: 1.0000 - val_loss: 0.0042 - val_acc: 1.0000 - lr: 5.0000e-04\n",
      "Epoch 45/200\n",
      "33/36 [==========================>...] - ETA: 0s - loss: 0.0042 - acc: 1.0000\n",
      "Epoch 45: val_acc did not improve from 1.00000\n",
      "36/36 [==============================] - 0s 6ms/step - loss: 0.0042 - acc: 1.0000 - val_loss: 0.0041 - val_acc: 1.0000 - lr: 5.0000e-04\n",
      "Epoch 46/200\n",
      "31/36 [========================>.....] - ETA: 0s - loss: 0.0041 - acc: 1.0000\n",
      "Epoch 46: val_acc did not improve from 1.00000\n",
      "36/36 [==============================] - 0s 6ms/step - loss: 0.0041 - acc: 1.0000 - val_loss: 0.0040 - val_acc: 1.0000 - lr: 5.0000e-04\n",
      "Epoch 47/200\n",
      "31/36 [========================>.....] - ETA: 0s - loss: 0.0040 - acc: 1.0000\n",
      "Epoch 47: val_acc did not improve from 1.00000\n",
      "36/36 [==============================] - 0s 6ms/step - loss: 0.0040 - acc: 1.0000 - val_loss: 0.0039 - val_acc: 1.0000 - lr: 5.0000e-04\n",
      "Epoch 48/200\n",
      "32/36 [=========================>....] - ETA: 0s - loss: 0.0039 - acc: 1.0000\n",
      "Epoch 48: val_acc did not improve from 1.00000\n",
      "36/36 [==============================] - 0s 6ms/step - loss: 0.0039 - acc: 1.0000 - val_loss: 0.0038 - val_acc: 1.0000 - lr: 5.0000e-04\n",
      "Epoch 49/200\n",
      "33/36 [==========================>...] - ETA: 0s - loss: 0.0038 - acc: 1.0000\n",
      "Epoch 49: val_acc did not improve from 1.00000\n",
      "36/36 [==============================] - 0s 6ms/step - loss: 0.0038 - acc: 1.0000 - val_loss: 0.0037 - val_acc: 1.0000 - lr: 5.0000e-04\n",
      "Epoch 50/200\n",
      "32/36 [=========================>....] - ETA: 0s - loss: 0.0037 - acc: 1.0000\n",
      "Epoch 50: val_acc did not improve from 1.00000\n",
      "36/36 [==============================] - 0s 6ms/step - loss: 0.0037 - acc: 1.0000 - val_loss: 0.0036 - val_acc: 1.0000 - lr: 5.0000e-04\n",
      "Epoch 51/200\n",
      "32/36 [=========================>....] - ETA: 0s - loss: 0.0036 - acc: 1.0000\n",
      "Epoch 51: val_acc did not improve from 1.00000\n",
      "36/36 [==============================] - 0s 6ms/step - loss: 0.0036 - acc: 1.0000 - val_loss: 0.0035 - val_acc: 1.0000 - lr: 5.0000e-04\n",
      "Epoch 51: early stopping\n"
     ]
    }
   ],
   "source": [
    "from keras.callbacks import ModelCheckpoint, ReduceLROnPlateau, EarlyStopping\n",
    "\n",
    "# Define the callbacks\n",
    "callbacks = [\n",
    "    ModelCheckpoint('models/base_model.h5', monitor='val_acc', verbose=1, save_best_only=True, mode='auto'),\n",
    "    ReduceLROnPlateau(monitor='val_acc', factor=0.5, patience=30, verbose=1, mode='auto'),\n",
    "    EarlyStopping(monitor='val_acc', patience=50, verbose=1, mode='auto')\n",
    "]\n",
    "\n",
    "history = model.fit(\n",
    "    x_train,\n",
    "    y_train,\n",
    "    validation_data=(x_val, y_val),\n",
    "    epochs=200,\n",
    "    batch_size=16,\n",
    "    callbacks=callbacks\n",
    ")"
   ]
  },
  {
   "cell_type": "code",
   "execution_count": 10,
   "metadata": {},
   "outputs": [
    {
     "data": {
      "image/png": "[encoded data removed]",
      "text/plain": [
       "<Figure size 1000x500 with 1 Axes>"
      ]
     },
     "metadata": {},
     "output_type": "display_data"
    },
    {
     "data": {
      "image/png": "[encoded data removed]",
      "text/plain": [
       "<Figure size 1000x500 with 1 Axes>"
      ]
     },
     "metadata": {},
     "output_type": "display_data"
    }
   ],
   "source": [
    "import matplotlib.pyplot as plt\n",
    "\n",
    "fig, loss_ax = plt.subplots(figsize=(10, 5))\n",
    "\n",
    "loss_ax.plot(history.history['loss'], 'y', label='train loss')\n",
    "loss_ax.plot(history.history['val_loss'], 'r', label='val loss')\n",
    "loss_ax.set_xlabel('epoch')\n",
    "loss_ax.set_ylabel('loss')\n",
    "loss_ax.legend(loc='upper left')\n",
    "\n",
    "fig, acc_ax = plt.subplots(figsize=(10, 5))\n",
    "acc_ax.plot(history.history['acc'], 'b', label='train acc')\n",
    "acc_ax.plot(history.history['val_acc'], 'g', label='val acc')\n",
    "acc_ax.set_ylabel('accuracy')\n",
    "acc_ax.legend(loc='upper left')\n",
    "\n",
    "plt.show()"
   ]
  }
 ],
 "metadata": {
  "kernelspec": {
   "display_name": "Python 3",
   "language": "python",
   "name": "python3"
  },
  "language_info": {
   "codemirror_mode": {
    "name": "ipython",
    "version": 3
   },
   "file_extension": ".py",
   "mimetype": "text/x-python",
   "name": "python",
   "nbconvert_exporter": "python",
   "pygments_lexer": "ipython3",
   "version": "3.10.8"
  },
  "orig_nbformat": 4,
  "vscode": {
   "interpreter": {
    "hash": "415c0476b4d9851a5654ef298c2c988b4cfcda26c17d98713f5f3f4d54067eb0"
   }
  }
 },
 "nbformat": 4,
 "nbformat_minor": 2
}
