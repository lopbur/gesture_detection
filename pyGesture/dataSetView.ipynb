{
 "cells": [
  {
   "cell_type": "code",
   "execution_count": null,
   "metadata": {},
   "outputs": [],
   "source": [
    "import numpy as np\n",
    "import os"
   ]
  },
  {
   "cell_type": "code",
   "execution_count": null,
   "metadata": {},
   "outputs": [],
   "source": [
    "dataSetPath = 'data'\n",
    "rawFileName = 'raw'\n",
    "seqFileName = 'seq'"
   ]
  },
  {
   "cell_type": "code",
   "execution_count": null,
   "metadata": {},
   "outputs": [],
   "source": [
    "data = np.concatenate([\n",
    "    np.load('dataset/seq_come_1675815419.npy'),\n",
    "    np.load('dataset/seq_away_1675815419.npy'),\n",
    "    np.load('dataset/seq_spin_1675815419.npy'),\n",
    "], axis=0)\n",
    "\n",
    "data.shape"
   ]
  }
 ],
 "metadata": {
  "language_info": {
   "name": "python"
  },
  "orig_nbformat": 4
 },
 "nbformat": 4,
 "nbformat_minor": 2
}
