{
 "cells": [
  {
   "cell_type": "code",
   "execution_count": 16,
   "metadata": {},
   "outputs": [],
   "source": [
    "import numpy as np\n",
    "from service import train\n",
    "import os\n",
    "\n",
    "os.environ['CUDA_VISIBLE_DEVICES'] = '1'\n",
    "os.environ['TF_FORCE_GPU_ALLOW_GROWTH'] = 'true'"
   ]
  },
  {
   "cell_type": "code",
   "execution_count": 17,
   "metadata": {},
   "outputs": [],
   "source": [
    "# define base data, label store path\n",
    "base_data_path = train.base_data_path\n",
    "base_label_path = train.base_label_path\n",
    "\n",
    "# define new data store path\n",
    "new_data_path = train.new_data_path"
   ]
  },
  {
   "cell_type": "code",
   "execution_count": 18,
   "metadata": {},
   "outputs": [
    {
     "data": {
      "text/plain": [
       "(['clenching', 'away', 'come'], ['0', '1', '2'], (632, 30, 100))"
      ]
     },
     "execution_count": 18,
     "metadata": {},
     "output_type": "execute_result"
    }
   ],
   "source": [
    "with open(f'{base_data_path}labels.txt', 'r') as f:\n",
    "    lines = f.readlines()\n",
    "    base_actions = [line.strip().split()[0] for line in lines]\n",
    "    base_labels = [line.strip().split()[1] for line in lines]\n",
    "\n",
    "base_data = np.concatenate([\n",
    "   np.load(f'{base_data_path}seq_{action}.npy') for action in base_actions\n",
    "], axis=0)\n",
    "\n",
    "base_actions, base_labels, base_data.shape"
   ]
  },
  {
   "cell_type": "code",
   "execution_count": 19,
   "metadata": {},
   "outputs": [
    {
     "data": {
      "text/plain": [
       "(['twoFinger'], ['3'], (206, 30, 100))"
      ]
     },
     "execution_count": 19,
     "metadata": {},
     "output_type": "execute_result"
    }
   ],
   "source": [
    "with open(f'{new_data_path}labels.txt', 'r') as f:\n",
    "    lines = f.readlines()\n",
    "    new_actions = [line.strip().split()[0] for line in lines]\n",
    "    new_labels = [line.strip().split()[1] for line in lines]\n",
    "\n",
    "new_data = np.concatenate([\n",
    "   np.load(f'{new_data_path}seq_{action}.npy') for action in new_actions\n",
    "], axis=0)\n",
    "\n",
    "new_actions, new_labels, new_data.shape"
   ]
  },
  {
   "cell_type": "code",
   "execution_count": 20,
   "metadata": {},
   "outputs": [
    {
     "data": {
      "text/plain": [
       "((838, 30, 100),\n",
       " array(['clenching', 'away', 'come', 'twoFinger'], dtype='<U9'),\n",
       " array(['0', '1', '2', '3'], dtype='<U1'))"
      ]
     },
     "execution_count": 20,
     "metadata": {},
     "output_type": "execute_result"
    }
   ],
   "source": [
    "comb_data = np.concatenate([base_data, new_data])\n",
    "comb_actions = np.concatenate([base_actions, new_actions])\n",
    "comb_labels = np.concatenate([base_labels, new_labels])\n",
    "\n",
    "comb_data.shape, comb_actions, comb_labels"
   ]
  },
  {
   "cell_type": "code",
   "execution_count": 21,
   "metadata": {},
   "outputs": [
    {
     "data": {
      "text/plain": [
       "((670, 30, 99), (670, 4), (168, 30, 99), (168, 4))"
      ]
     },
     "execution_count": 21,
     "metadata": {},
     "output_type": "execute_result"
    }
   ],
   "source": [
    "from sklearn.model_selection import train_test_split\n",
    "from keras.utils import to_categorical\n",
    "\n",
    "x_data = comb_data[:, :, :-1]\n",
    "labels = comb_data[:, 0, -1]\n",
    "\n",
    "y_data = to_categorical(labels, num_classes=len(comb_actions))\n",
    "\n",
    "x_data = x_data.astype(np.float32)\n",
    "y_data = y_data.astype(np.float32)\n",
    "\n",
    "x_train, x_val, y_train, y_val = train_test_split(x_data, y_data, test_size=0.2, random_state=2022)\n",
    "\n",
    "x_train.shape, y_train.shape, x_val.shape, y_val.shape"
   ]
  },
  {
   "cell_type": "code",
   "execution_count": 22,
   "metadata": {},
   "outputs": [
    {
     "name": "stdout",
     "output_type": "stream",
     "text": [
      "Model: \"sequential_2\"\n",
      "_________________________________________________________________\n",
      " Layer (type)                Output Shape              Param #   \n",
      "=================================================================\n",
      " gru (GRU)                   (None, 64)                31680     \n",
      "                                                                 \n",
      " dense_6 (Dense)             (None, 32)                2080      \n",
      "                                                                 \n",
      " dense_7 (Dense)             (None, 8)                 264       \n",
      "                                                                 \n",
      " dropout_2 (Dropout)         (None, 8)                 0         \n",
      "                                                                 \n",
      " dense_1 (Dense)             (None, 4)                 36        \n",
      "                                                                 \n",
      "=================================================================\n",
      "Total params: 34,060\n",
      "Trainable params: 34,060\n",
      "Non-trainable params: 0\n",
      "_________________________________________________________________\n"
     ]
    }
   ],
   "source": [
    "from keras.models import Sequential, load_model\n",
    "from keras.layers import Dense, Dropout\n",
    "save_model_path = 'models/test_transfer.h5'\n",
    "\n",
    "model = load_model('models/base_model.h5')\n",
    "model.pop()\n",
    "new_output_layer = Dense(len(comb_actions), activation='softmax')\n",
    "model.add(new_output_layer)\n",
    "\n",
    "model.compile(optimizer='adam', loss='categorical_crossentropy', metrics=['acc'])\n",
    "model.summary()"
   ]
  },
  {
   "cell_type": "code",
   "execution_count": 23,
   "metadata": {},
   "outputs": [
    {
     "name": "stdout",
     "output_type": "stream",
     "text": [
      "Epoch 1/30\n",
      "32/42 [=====================>........] - ETA: 0s - loss: 1.8493 - acc: 0.2461\n",
      "Epoch 1: saving model to models\\test_transfer.h5\n",
      "42/42 [==============================] - 2s 13ms/step - loss: 1.6697 - acc: 0.3075 - val_loss: 0.8527 - val_acc: 0.8333 - lr: 0.0010\n",
      "Epoch 2/30\n",
      "41/42 [============================>.] - ETA: 0s - loss: 0.8900 - acc: 0.5976\n",
      "Epoch 2: saving model to models\\test_transfer.h5\n",
      "42/42 [==============================] - 0s 7ms/step - loss: 0.8835 - acc: 0.6015 - val_loss: 0.4751 - val_acc: 0.9702 - lr: 0.0010\n",
      "Epoch 3/30\n",
      "41/42 [============================>.] - ETA: 0s - loss: 0.5842 - acc: 0.8171\n",
      "Epoch 3: saving model to models\\test_transfer.h5\n",
      "42/42 [==============================] - 0s 6ms/step - loss: 0.5864 - acc: 0.8164 - val_loss: 0.3443 - val_acc: 0.9940 - lr: 0.0010\n",
      "Epoch 4/30\n",
      "39/42 [==========================>...] - ETA: 0s - loss: 0.4848 - acc: 0.8590\n",
      "Epoch 4: saving model to models\\test_transfer.h5\n",
      "42/42 [==============================] - 0s 7ms/step - loss: 0.4836 - acc: 0.8567 - val_loss: 0.2773 - val_acc: 0.9940 - lr: 0.0010\n",
      "Epoch 5/30\n",
      "41/42 [============================>.] - ETA: 0s - loss: 0.4481 - acc: 0.8857\n",
      "Epoch 5: saving model to models\\test_transfer.h5\n",
      "42/42 [==============================] - 0s 6ms/step - loss: 0.4449 - acc: 0.8881 - val_loss: 0.2331 - val_acc: 1.0000 - lr: 0.0010\n",
      "Epoch 6/30\n",
      "40/42 [===========================>..] - ETA: 0s - loss: 0.3994 - acc: 0.8828\n",
      "Epoch 6: saving model to models\\test_transfer.h5\n",
      "42/42 [==============================] - 0s 7ms/step - loss: 0.3939 - acc: 0.8851 - val_loss: 0.1912 - val_acc: 1.0000 - lr: 0.0010\n",
      "Epoch 7/30\n",
      "41/42 [============================>.] - ETA: 0s - loss: 0.3529 - acc: 0.9345\n",
      "Epoch 7: saving model to models\\test_transfer.h5\n",
      "42/42 [==============================] - 0s 7ms/step - loss: 0.3519 - acc: 0.9343 - val_loss: 0.1600 - val_acc: 1.0000 - lr: 0.0010\n",
      "Epoch 8/30\n",
      "41/42 [============================>.] - ETA: 0s - loss: 0.3165 - acc: 0.9284\n",
      "Epoch 8: saving model to models\\test_transfer.h5\n",
      "42/42 [==============================] - 0s 6ms/step - loss: 0.3139 - acc: 0.9299 - val_loss: 0.1366 - val_acc: 1.0000 - lr: 0.0010\n",
      "Epoch 9/30\n",
      "42/42 [==============================] - ETA: 0s - loss: 0.2942 - acc: 0.9403\n",
      "Epoch 9: saving model to models\\test_transfer.h5\n",
      "42/42 [==============================] - 0s 7ms/step - loss: 0.2942 - acc: 0.9403 - val_loss: 0.1171 - val_acc: 1.0000 - lr: 0.0010\n",
      "Epoch 10/30\n",
      "40/42 [===========================>..] - ETA: 0s - loss: 0.2895 - acc: 0.9406\n",
      "Epoch 10: saving model to models\\test_transfer.h5\n",
      "42/42 [==============================] - 0s 7ms/step - loss: 0.2871 - acc: 0.9388 - val_loss: 0.1011 - val_acc: 1.0000 - lr: 0.0010\n",
      "Epoch 11/30\n",
      "41/42 [============================>.] - ETA: 0s - loss: 0.2641 - acc: 0.9466\n",
      "Epoch 11: saving model to models\\test_transfer.h5\n",
      "42/42 [==============================] - 0s 6ms/step - loss: 0.2645 - acc: 0.9463 - val_loss: 0.0873 - val_acc: 1.0000 - lr: 0.0010\n",
      "Epoch 12/30\n",
      "41/42 [============================>.] - ETA: 0s - loss: 0.2454 - acc: 0.9451\n",
      "Epoch 12: saving model to models\\test_transfer.h5\n",
      "42/42 [==============================] - 0s 6ms/step - loss: 0.2452 - acc: 0.9448 - val_loss: 0.0766 - val_acc: 1.0000 - lr: 0.0010\n",
      "Epoch 13/30\n",
      "41/42 [============================>.] - ETA: 0s - loss: 0.2408 - acc: 0.9345\n",
      "Epoch 13: saving model to models\\test_transfer.h5\n",
      "42/42 [==============================] - 0s 6ms/step - loss: 0.2435 - acc: 0.9328 - val_loss: 0.0681 - val_acc: 1.0000 - lr: 0.0010\n",
      "Epoch 14/30\n",
      "41/42 [============================>.] - ETA: 0s - loss: 0.2057 - acc: 0.9436\n",
      "Epoch 14: saving model to models\\test_transfer.h5\n",
      "42/42 [==============================] - 0s 7ms/step - loss: 0.2059 - acc: 0.9448 - val_loss: 0.0611 - val_acc: 1.0000 - lr: 0.0010\n",
      "Epoch 15/30\n",
      "40/42 [===========================>..] - ETA: 0s - loss: 0.1978 - acc: 0.9547\n",
      "Epoch 15: saving model to models\\test_transfer.h5\n",
      "42/42 [==============================] - 0s 7ms/step - loss: 0.2010 - acc: 0.9522 - val_loss: 0.0556 - val_acc: 1.0000 - lr: 0.0010\n",
      "Epoch 16/30\n",
      "41/42 [============================>.] - ETA: 0s - loss: 0.1856 - acc: 0.9619\n",
      "Epoch 16: saving model to models\\test_transfer.h5\n",
      "42/42 [==============================] - 0s 6ms/step - loss: 0.1844 - acc: 0.9627 - val_loss: 0.0498 - val_acc: 1.0000 - lr: 0.0010\n",
      "Epoch 17/30\n",
      "41/42 [============================>.] - ETA: 0s - loss: 0.1677 - acc: 0.9604\n",
      "Epoch 17: saving model to models\\test_transfer.h5\n",
      "42/42 [==============================] - 0s 6ms/step - loss: 0.1692 - acc: 0.9612 - val_loss: 0.0459 - val_acc: 1.0000 - lr: 0.0010\n",
      "Epoch 18/30\n",
      "41/42 [============================>.] - ETA: 0s - loss: 0.1842 - acc: 0.9527\n",
      "Epoch 18: saving model to models\\test_transfer.h5\n",
      "42/42 [==============================] - 0s 6ms/step - loss: 0.1850 - acc: 0.9537 - val_loss: 0.0416 - val_acc: 1.0000 - lr: 0.0010\n",
      "Epoch 19/30\n",
      "38/42 [==========================>...] - ETA: 0s - loss: 0.1995 - acc: 0.9326\n",
      "Epoch 19: saving model to models\\test_transfer.h5\n",
      "42/42 [==============================] - 0s 7ms/step - loss: 0.1967 - acc: 0.9373 - val_loss: 0.0377 - val_acc: 1.0000 - lr: 0.0010\n",
      "Epoch 20/30\n",
      "41/42 [============================>.] - ETA: 0s - loss: 0.1629 - acc: 0.9619\n",
      "Epoch 20: saving model to models\\test_transfer.h5\n",
      "42/42 [==============================] - 0s 6ms/step - loss: 0.1613 - acc: 0.9627 - val_loss: 0.0350 - val_acc: 1.0000 - lr: 0.0010\n",
      "Epoch 21/30\n",
      "41/42 [============================>.] - ETA: 0s - loss: 0.1788 - acc: 0.9512\n",
      "Epoch 21: saving model to models\\test_transfer.h5\n",
      "42/42 [==============================] - 0s 7ms/step - loss: 0.1796 - acc: 0.9507 - val_loss: 0.0316 - val_acc: 1.0000 - lr: 0.0010\n",
      "Epoch 22/30\n",
      "41/42 [============================>.] - ETA: 0s - loss: 0.1772 - acc: 0.9466\n",
      "Epoch 22: saving model to models\\test_transfer.h5\n",
      "42/42 [==============================] - 0s 6ms/step - loss: 0.1751 - acc: 0.9478 - val_loss: 0.0293 - val_acc: 1.0000 - lr: 0.0010\n",
      "Epoch 23/30\n",
      "41/42 [============================>.] - ETA: 0s - loss: 0.1523 - acc: 0.9726\n",
      "Epoch 23: saving model to models\\test_transfer.h5\n",
      "42/42 [==============================] - 0s 7ms/step - loss: 0.1516 - acc: 0.9731 - val_loss: 0.0269 - val_acc: 1.0000 - lr: 0.0010\n",
      "Epoch 24/30\n",
      "41/42 [============================>.] - ETA: 0s - loss: 0.1573 - acc: 0.9451\n",
      "Epoch 24: saving model to models\\test_transfer.h5\n",
      "42/42 [==============================] - 0s 6ms/step - loss: 0.1597 - acc: 0.9433 - val_loss: 0.0246 - val_acc: 1.0000 - lr: 0.0010\n",
      "Epoch 25/30\n",
      "32/42 [=====================>........] - ETA: 0s - loss: 0.1473 - acc: 0.9629\n",
      "Epoch 25: saving model to models\\test_transfer.h5\n",
      "42/42 [==============================] - 0s 6ms/step - loss: 0.1425 - acc: 0.9642 - val_loss: 0.0226 - val_acc: 1.0000 - lr: 0.0010\n",
      "Epoch 26/30\n",
      "42/42 [==============================] - ETA: 0s - loss: 0.1436 - acc: 0.9582\n",
      "Epoch 26: saving model to models\\test_transfer.h5\n",
      "42/42 [==============================] - 0s 6ms/step - loss: 0.1436 - acc: 0.9582 - val_loss: 0.0215 - val_acc: 1.0000 - lr: 0.0010\n",
      "Epoch 27/30\n",
      "42/42 [==============================] - ETA: 0s - loss: 0.1367 - acc: 0.9657\n",
      "Epoch 27: saving model to models\\test_transfer.h5\n",
      "42/42 [==============================] - 0s 6ms/step - loss: 0.1367 - acc: 0.9657 - val_loss: 0.0196 - val_acc: 1.0000 - lr: 0.0010\n",
      "Epoch 28/30\n",
      "41/42 [============================>.] - ETA: 0s - loss: 0.1474 - acc: 0.9588\n",
      "Epoch 28: saving model to models\\test_transfer.h5\n",
      "42/42 [==============================] - 0s 6ms/step - loss: 0.1482 - acc: 0.9582 - val_loss: 0.0183 - val_acc: 1.0000 - lr: 0.0010\n",
      "Epoch 29/30\n",
      "42/42 [==============================] - ETA: 0s - loss: 0.1441 - acc: 0.9627\n",
      "Epoch 29: saving model to models\\test_transfer.h5\n",
      "42/42 [==============================] - 0s 6ms/step - loss: 0.1441 - acc: 0.9627 - val_loss: 0.0172 - val_acc: 1.0000 - lr: 0.0010\n",
      "Epoch 30/30\n",
      "40/42 [===========================>..] - ETA: 0s - loss: 0.1408 - acc: 0.9531\n",
      "Epoch 30: saving model to models\\test_transfer.h5\n",
      "42/42 [==============================] - 0s 7ms/step - loss: 0.1362 - acc: 0.9552 - val_loss: 0.0157 - val_acc: 1.0000 - lr: 0.0010\n"
     ]
    }
   ],
   "source": [
    "from keras.callbacks import ModelCheckpoint, ReduceLROnPlateau, EarlyStopping\n",
    "\n",
    "history = model.fit(\n",
    "    x_train,\n",
    "    y_train,\n",
    "    validation_data=(x_val, y_val),\n",
    "    epochs=30,\n",
    "    batch_size=16,\n",
    "    callbacks=[\n",
    "        ModelCheckpoint(save_model_path, monitor='val_acc', verbose=1, save_best_oly=True, mode='auto'),\n",
    "        ReduceLROnPlateau(monitor='val_acc', factor=0.5, patience=50, verbose=1, mode='auto'),\n",
    "    ]\n",
    ")"
   ]
  },
  {
   "cell_type": "code",
   "execution_count": 24,
   "metadata": {},
   "outputs": [
    {
     "data": {
      "image/png": "[encoded data removed]",
      "text/plain": [
       "<Figure size 1000x500 with 1 Axes>"
      ]
     },
     "metadata": {},
     "output_type": "display_data"
    },
    {
     "data": {
      "image/png": "[encoded data removed]",
      "text/plain": [
       "<Figure size 1000x500 with 1 Axes>"
      ]
     },
     "metadata": {},
     "output_type": "display_data"
    }
   ],
   "source": [
    "import matplotlib.pyplot as plt\n",
    "\n",
    "fig, loss_ax = plt.subplots(figsize=(10, 5))\n",
    "\n",
    "loss_ax.plot(history.history['loss'], 'y', label='train loss')\n",
    "loss_ax.plot(history.history['val_loss'], 'r', label='val loss')\n",
    "loss_ax.set_xlabel('epoch')\n",
    "loss_ax.set_ylabel('loss')\n",
    "loss_ax.legend(loc='upper left')\n",
    "\n",
    "fig, acc_ax = plt.subplots(figsize=(10, 5))\n",
    "acc_ax.plot(history.history['acc'], 'b', label='train acc')\n",
    "acc_ax.plot(history.history['val_acc'], 'g', label='val acc')\n",
    "acc_ax.set_ylabel('accuracy')\n",
    "acc_ax.legend(loc='upper left')\n",
    "\n",
    "plt.show()"
   ]
  }
 ],
 "metadata": {
  "kernelspec": {
   "display_name": "Python 3",
   "language": "python",
   "name": "python3"
  },
  "language_info": {
   "codemirror_mode": {
    "name": "ipython",
    "version": 3
   },
   "file_extension": ".py",
   "mimetype": "text/x-python",
   "name": "python",
   "nbconvert_exporter": "python",
   "pygments_lexer": "ipython3",
   "version": "3.10.8"
  },
  "orig_nbformat": 4,
  "vscode": {
   "interpreter": {
    "hash": "415c0476b4d9851a5654ef298c2c988b4cfcda26c17d98713f5f3f4d54067eb0"
   }
  }
 },
 "nbformat": 4,
 "nbformat_minor": 2
}
