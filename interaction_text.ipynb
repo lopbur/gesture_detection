{
 "cells": [
  {
   "cell_type": "code",
   "execution_count": 7,
   "metadata": {},
   "outputs": [],
   "source": [
    "import numpy as np\n",
    "import os, importlib"
   ]
  },
  {
   "cell_type": "code",
   "execution_count": 8,
   "metadata": {},
   "outputs": [
    {
     "data": {
      "text/plain": [
       "array(['clenching', 'foldIndex', 'foldIndexMiddle', 'away', 'wolf'],\n",
       "      dtype='<U15')"
      ]
     },
     "execution_count": 8,
     "metadata": {},
     "output_type": "execute_result"
    }
   ],
   "source": [
    "import service.train as train_service\n",
    "importlib.reload(train_service)\n",
    "data_path = os.path.abspath('./data_old/')\n",
    "\n",
    "gestures = train_service.load_gesture_data(data_path)\n",
    "\n",
    "SAMPLE_RATIO_VALUE = 0.1\n",
    "data_length = np.array([len(d) for d in gestures])\n",
    "sample_size = int(SAMPLE_RATIO_VALUE * np.min(np.array(data_length)))\n",
    "sample_data = train_service.generate_random_sample_from_gesture_list(gestures, sample_size)\n",
    "\n",
    "actions = train_service.load_gesture_label(os.path.join(data_path, 'labels.txt'))\n",
    "\n",
    "# train_service.add_label_to_gesture_list(sample_data, labels)\n",
    "actions[0]"
   ]
  },
  {
   "cell_type": "code",
   "execution_count": 10,
   "metadata": {},
   "outputs": [
    {
     "name": "stdout",
     "output_type": "stream",
     "text": [
      "2500\n"
     ]
    }
   ],
   "source": [
    "sum = 0\n",
    "for i in range(1, 100):\n",
    "    sum += i if (i % 2 == 1) else 0\n",
    "print(sum)"
   ]
  }
 ],
 "metadata": {
  "kernelspec": {
   "display_name": "Python 3",
   "language": "python",
   "name": "python3"
  },
  "language_info": {
   "codemirror_mode": {
    "name": "ipython",
    "version": 3
   },
   "file_extension": ".py",
   "mimetype": "text/x-python",
   "name": "python",
   "nbconvert_exporter": "python",
   "pygments_lexer": "ipython3",
   "version": "3.10.8"
  },
  "orig_nbformat": 4
 },
 "nbformat": 4,
 "nbformat_minor": 2
}
