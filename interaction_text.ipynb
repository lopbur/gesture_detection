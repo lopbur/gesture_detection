{
 "cells": [
  {
   "cell_type": "code",
   "execution_count": 44,
   "metadata": {},
   "outputs": [],
   "source": [
    "import numpy as np\n",
    "import os, importlib"
   ]
  },
  {
   "cell_type": "code",
   "execution_count": 63,
   "metadata": {},
   "outputs": [
    {
     "data": {
      "text/plain": [
       "(6, 56, 30, 77)"
      ]
     },
     "execution_count": 63,
     "metadata": {},
     "output_type": "execute_result"
    }
   ],
   "source": [
    "import service.train as train_service\n",
    "importlib.reload(train_service)\n",
    "data = train_service.load_gesture_data(os.path.abspath('./data_old/'))\n",
    "length = np.array([len(d) for d in data])\n",
    "sample_ratio_value = 0.1\n",
    "sample_size = int(sample_ratio_value * np.min(np.array([len(d) for d in data])))\n",
    "\n",
    "sample_data = train_service.generate_random_sample_from_gesture_list(data, sample_size)\n",
    "\n",
    "sample_data.shape"
   ]
  },
  {
   "cell_type": "code",
   "execution_count": null,
   "metadata": {},
   "outputs": [],
   "source": []
  }
 ],
 "metadata": {
  "kernelspec": {
   "display_name": "Python 3",
   "language": "python",
   "name": "python3"
  },
  "language_info": {
   "codemirror_mode": {
    "name": "ipython",
    "version": 3
   },
   "file_extension": ".py",
   "mimetype": "text/x-python",
   "name": "python",
   "nbconvert_exporter": "python",
   "pygments_lexer": "ipython3",
   "version": "3.10.8"
  },
  "orig_nbformat": 4
 },
 "nbformat": 4,
 "nbformat_minor": 2
}
